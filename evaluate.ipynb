{
 "cells": [
  {
   "cell_type": "code",
   "execution_count": 1,
   "id": "1a8ab8c2",
   "metadata": {},
   "outputs": [
    {
     "name": "stderr",
     "output_type": "stream",
     "text": [
      "/home/ffundel/Seminar/env/lib/python3.8/site-packages/tqdm/auto.py:21: TqdmWarning: IProgress not found. Please update jupyter and ipywidgets. See https://ipywidgets.readthedocs.io/en/stable/user_install.html\n",
      "  from .autonotebook import tqdm as notebook_tqdm\n",
      "/home/ffundel/Seminar/env/lib/python3.8/site-packages/torchmetrics/utilities/prints.py:36: UserWarning: Metric `InceptionScore` will save all extracted features in buffer. For large datasets this may lead to large memory footprint.\n",
      "  warnings.warn(*args, **kwargs)\n"
     ]
    }
   ],
   "source": [
    "import os\n",
    "import torch\n",
    "import torchvision\n",
    "from torchmetrics.image.fid import FrechetInceptionDistance\n",
    "from torchmetrics.image.inception import InceptionScore\n",
    "import matplotlib.pyplot as plt\n",
    "from torchvision.datasets import ImageFolder\n",
    "from torch.utils.data import DataLoader\n",
    "from torchvision.transforms import Compose, CenterCrop, ToTensor, Resize\n",
    "import tqdm\n",
    "\n",
    "inception = InceptionScore()\n",
    "fid = FrechetInceptionDistance()"
   ]
  },
  {
   "cell_type": "code",
   "execution_count": 2,
   "id": "a050d46d",
   "metadata": {},
   "outputs": [
    {
     "name": "stderr",
     "output_type": "stream",
     "text": [
      "100%|█████████████████████████████████████████| 157/157 [01:20<00:00,  1.95it/s]\n"
     ]
    }
   ],
   "source": [
    "fid.cuda()\n",
    "inception.cuda()\n",
    "\n",
    "transform = Compose([\n",
    "    CenterCrop((299, 299)),  # Adjust target size as needed\n",
    "    ToTensor(),\n",
    "    lambda x: x*255\n",
    "])\n",
    "\n",
    "dataset = ImageFolder(root=\"coco\", transform=transform)\n",
    "\n",
    "batch_size = 32\n",
    "data_loader = DataLoader(dataset, batch_size=batch_size)\n",
    "\n",
    "for images, labels in tqdm.tqdm(data_loader):\n",
    "    images = images.type(torch.uint8).cuda()\n",
    "    fid.update(images, real=True)\n",
    "    inception.update(images)"
   ]
  },
  {
   "cell_type": "code",
   "execution_count": 3,
   "id": "c648ea49",
   "metadata": {},
   "outputs": [],
   "source": [
    "imgs = []\n",
    "im_folder = 'controlnet_images'\n",
    "for filename in os.listdir(im_folder):\n",
    "    if filename == '.ipynb_checkpoints':\n",
    "        continue\n",
    "    f = os.path.join(im_folder, filename)\n",
    "    img = torchvision.io.read_image(f)[:3]\n",
    "    #plt.imshow(img.permute(1, 2, 0))\n",
    "    #plt.show()\n",
    "    imgs.append(img)\n",
    "imgs = torch.stack(imgs)"
   ]
  },
  {
   "cell_type": "code",
   "execution_count": 4,
   "id": "814635da",
   "metadata": {},
   "outputs": [
    {
     "name": "stdout",
     "output_type": "stream",
     "text": [
      "torch.Size([30, 3, 512, 512])\n"
     ]
    }
   ],
   "source": [
    "print(imgs.shape)"
   ]
  },
  {
   "cell_type": "code",
   "execution_count": 5,
   "id": "81c1f0f4",
   "metadata": {},
   "outputs": [
    {
     "name": "stdout",
     "output_type": "stream",
     "text": [
      "tensor(279.2801, device='cuda:0')\n"
     ]
    }
   ],
   "source": [
    "fid.update(imgs.cuda(), real=False)\n",
    "FID_mean = fid.compute()\n",
    "print(FID_mean)"
   ]
  },
  {
   "cell_type": "code",
   "execution_count": 6,
   "id": "e657aed4",
   "metadata": {},
   "outputs": [
    {
     "name": "stdout",
     "output_type": "stream",
     "text": [
      "tensor(32.0988, device='cuda:0')\n"
     ]
    }
   ],
   "source": [
    "inception.update(imgs.cuda())\n",
    "IS_mean, IS_std = inception.compute()\n",
    "print(IS_mean)"
   ]
  },
  {
   "cell_type": "code",
   "execution_count": null,
   "id": "8b3ae8bb",
   "metadata": {},
   "outputs": [],
   "source": []
  }
 ],
 "metadata": {
  "kernelspec": {
   "display_name": "env",
   "language": "python",
   "name": "env"
  },
  "language_info": {
   "codemirror_mode": {
    "name": "ipython",
    "version": 3
   },
   "file_extension": ".py",
   "mimetype": "text/x-python",
   "name": "python",
   "nbconvert_exporter": "python",
   "pygments_lexer": "ipython3",
   "version": "3.8.6"
  }
 },
 "nbformat": 4,
 "nbformat_minor": 5
}
